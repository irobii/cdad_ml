{
 "cells": [
  {
   "cell_type": "markdown",
   "metadata": {},
   "source": [
    "# 1장 기계 학습 파이썬으로 시작하기"
   ]
  },
  {
   "cell_type": "markdown",
   "metadata": {},
   "source": [
    "contents\n",
    "\n",
    "기계 학습과 파이썬 : 꿈의 조합 \n",
    "\n",
    "이 책이 알려주는 내용(과 알려주지 않는 내용) \n",
    "\n",
    "정체됐을 때 해야 할 작업  \n",
    "\n",
    "시작 \n",
    "* NumPy, SciPy, and Matplotlib 소개\n",
    "* 파이썬 설치  \n",
    "* NumPy와 효과적으로, SciPy와 지능적으로 적용하기 쉬운 데이터 만들기\n",
    "* NumPy 배우기 \n",
    " * 인덱싱\n",
    " * 존재하지 않는 값 처리  \n",
    " * 실행 시간 비교 \n",
    "* SciPy 배우기\n",
    "\n",
    "첫 번째 기계 학습 애플리케이션 \n",
    "* 데이터 읽기 \n",
    "* 데이터 정리와 전처리 \n",
    "* 적절한 모델과 학습 알고리즘 선택  \n",
    " * 모델을 만들기에 앞서  \n",
    " * 단순한 직선으로 시작하기   \n",
    " * 좀 더 복잡한 모델  \n",
    " * 일보후퇴, 이보전진 : 데이터 다시 보기\n",
    " * 훈련과 테스트\n",
    " * 최초 질문에 대답하기"
   ]
  },
  {
   "cell_type": "markdown",
   "metadata": {},
   "source": [
    "# 기계 학습과 파이썬 : 꿈의 조합"
   ]
  },
  {
   "cell_type": "markdown",
   "metadata": {},
   "source": [
    "기계학습이란? \n",
    "* 기계에게 몇 가지 예를 주고 작업을 수행하도록 가르치는 일\n",
    "\n",
    "ML(기계학습)은 애자일하게\n",
    "* 일반적인 ML은 분석 시 앞뒤 단계를 오가며 다양한 ML 알고리즘에 여러 버전의 입력 데이터를 적용해 시도\n",
    "\n",
    "파이썬 쓰면 좋다\n",
    "* 대화형, 동적타입, 쉽고 다양한 라이브러리\n",
    "* 실행속도 희생"
   ]
  },
  {
   "cell_type": "markdown",
   "metadata": {},
   "source": [
    "# 이 책이 알려주는 내용(과 알려주지 않는 내용)"
   ]
  },
  {
   "cell_type": "markdown",
   "metadata": {},
   "source": [
    "알려주지 않는 것 - 정교한 여러 기계학습 알고리즘들에 대한 이론적 접근.\n",
    "\n",
    "알려주는 것\n",
    "1. 데이터 읽기와 정리\n",
    "2. 입력 데이터의 탐구와 이해\n",
    "3. 기계 학습 알고리즘을 위해 어떻게 최적으로 데이터를 나타낼지에 대한 분석\n",
    "4. 적절한 모델과 학습 알고리즘 선택\n",
    "5. 수행 정확도 측정"
   ]
  },
  {
   "cell_type": "markdown",
   "metadata": {},
   "source": [
    "# 정체됐을 때 해야 할 작업"
   ]
  },
  {
   "cell_type": "markdown",
   "metadata": {},
   "source": [
    "구글링 & 추천 사이트\n",
    "\n",
    "* http://metaoptimize.com/qa\n",
    "* https://stats.stackexchange.com\n",
    "* https://stackoverflow.com\n",
    "* Feenode의 #machinelearning\n",
    "* http://www.TwoToReal.com\n",
    "\n",
    "하지만, kaggle로 대동단결.(kaggle 블로그로 갑시다)\n",
    "* http://blog.kaggle.com\n"
   ]
  },
  {
   "cell_type": "markdown",
   "metadata": {},
   "source": [
    "# 시작"
   ]
  },
  {
   "cell_type": "markdown",
   "metadata": {},
   "source": [
    "## NumPy, SciPy, Matplotlib 소개"
   ]
  },
  {
   "cell_type": "markdown",
   "metadata": {},
   "source": [
    "## 파이썬 설치"
   ]
  },
  {
   "cell_type": "markdown",
   "metadata": {},
   "source": [
    "## NumPy와 효과적으로, SciPy와 지능적으로 적용하기 쉬운 데이터 만들기"
   ]
  },
  {
   "cell_type": "markdown",
   "metadata": {},
   "source": [
    "## NumPy 배우기"
   ]
  },
  {
   "cell_type": "code",
   "execution_count": 1,
   "metadata": {},
   "outputs": [
    {
     "data": {
      "text/plain": [
       "'1.15.4'"
      ]
     },
     "execution_count": 1,
     "metadata": {},
     "output_type": "execute_result"
    }
   ],
   "source": [
    "import numpy\n",
    "numpy.version.full_version"
   ]
  },
  {
   "cell_type": "code",
   "execution_count": 2,
   "metadata": {},
   "outputs": [
    {
     "data": {
      "text/plain": [
       "array([0, 1, 2, 3, 4, 5])"
      ]
     },
     "execution_count": 2,
     "metadata": {},
     "output_type": "execute_result"
    }
   ],
   "source": [
    "import numpy as np\n",
    "a = np.array([0,1,2,3,4,5])\n",
    "a"
   ]
  },
  {
   "cell_type": "code",
   "execution_count": 3,
   "metadata": {},
   "outputs": [
    {
     "data": {
      "text/plain": [
       "1"
      ]
     },
     "execution_count": 3,
     "metadata": {},
     "output_type": "execute_result"
    }
   ],
   "source": [
    "a.ndim"
   ]
  },
  {
   "cell_type": "code",
   "execution_count": 4,
   "metadata": {},
   "outputs": [
    {
     "data": {
      "text/plain": [
       "(6,)"
      ]
     },
     "execution_count": 4,
     "metadata": {},
     "output_type": "execute_result"
    }
   ],
   "source": [
    "a.shape"
   ]
  },
  {
   "cell_type": "code",
   "execution_count": 5,
   "metadata": {},
   "outputs": [
    {
     "data": {
      "text/plain": [
       "array([[0, 1],\n",
       "       [2, 3],\n",
       "       [4, 5]])"
      ]
     },
     "execution_count": 5,
     "metadata": {},
     "output_type": "execute_result"
    }
   ],
   "source": [
    "b = a.reshape((3,2))\n",
    "b"
   ]
  },
  {
   "cell_type": "code",
   "execution_count": 6,
   "metadata": {},
   "outputs": [
    {
     "data": {
      "text/plain": [
       "2"
      ]
     },
     "execution_count": 6,
     "metadata": {},
     "output_type": "execute_result"
    }
   ],
   "source": [
    "b.ndim"
   ]
  },
  {
   "cell_type": "code",
   "execution_count": 7,
   "metadata": {},
   "outputs": [
    {
     "data": {
      "text/plain": [
       "(3, 2)"
      ]
     },
     "execution_count": 7,
     "metadata": {},
     "output_type": "execute_result"
    }
   ],
   "source": [
    "b.shape"
   ]
  },
  {
   "cell_type": "code",
   "execution_count": 8,
   "metadata": {},
   "outputs": [
    {
     "data": {
      "text/plain": [
       "array([[ 0,  1],\n",
       "       [77,  3],\n",
       "       [ 4,  5]])"
      ]
     },
     "execution_count": 8,
     "metadata": {},
     "output_type": "execute_result"
    }
   ],
   "source": [
    "b[1][0] = 77\n",
    "b"
   ]
  },
  {
   "cell_type": "code",
   "execution_count": 9,
   "metadata": {},
   "outputs": [
    {
     "data": {
      "text/plain": [
       "array([ 0,  1, 77,  3,  4,  5])"
      ]
     },
     "execution_count": 9,
     "metadata": {},
     "output_type": "execute_result"
    }
   ],
   "source": [
    "a"
   ]
  },
  {
   "cell_type": "code",
   "execution_count": 10,
   "metadata": {},
   "outputs": [
    {
     "data": {
      "text/plain": [
       "array([  0,   2, 154,   6,   8,  10])"
      ]
     },
     "execution_count": 10,
     "metadata": {},
     "output_type": "execute_result"
    }
   ],
   "source": [
    "a*2"
   ]
  },
  {
   "cell_type": "code",
   "execution_count": 11,
   "metadata": {},
   "outputs": [
    {
     "data": {
      "text/plain": [
       "array([   0,    1, 5929,    9,   16,   25])"
      ]
     },
     "execution_count": 11,
     "metadata": {},
     "output_type": "execute_result"
    }
   ],
   "source": [
    "a**2"
   ]
  },
  {
   "cell_type": "code",
   "execution_count": 12,
   "metadata": {},
   "outputs": [
    {
     "data": {
      "text/plain": [
       "[1, 2, 3, 4, 5, 1, 2, 3, 4, 5]"
      ]
     },
     "execution_count": 12,
     "metadata": {},
     "output_type": "execute_result"
    }
   ],
   "source": [
    "[1,2,3,4,5]*2"
   ]
  },
  {
   "cell_type": "code",
   "execution_count": 13,
   "metadata": {},
   "outputs": [
    {
     "ename": "TypeError",
     "evalue": "unsupported operand type(s) for ** or pow(): 'list' and 'int'",
     "output_type": "error",
     "traceback": [
      "\u001b[0;31m---------------------------------------------------------------------------\u001b[0m",
      "\u001b[0;31mTypeError\u001b[0m                                 Traceback (most recent call last)",
      "\u001b[0;32m<ipython-input-13-bdad266e9782>\u001b[0m in \u001b[0;36m<module>\u001b[0;34m\u001b[0m\n\u001b[0;32m----> 1\u001b[0;31m \u001b[0;34m[\u001b[0m\u001b[0;36m1\u001b[0m\u001b[0;34m,\u001b[0m\u001b[0;36m2\u001b[0m\u001b[0;34m,\u001b[0m\u001b[0;36m3\u001b[0m\u001b[0;34m,\u001b[0m\u001b[0;36m4\u001b[0m\u001b[0;34m,\u001b[0m\u001b[0;36m5\u001b[0m\u001b[0;34m]\u001b[0m\u001b[0;34m**\u001b[0m\u001b[0;36m2\u001b[0m\u001b[0;34m\u001b[0m\u001b[0;34m\u001b[0m\u001b[0m\n\u001b[0m",
      "\u001b[0;31mTypeError\u001b[0m: unsupported operand type(s) for ** or pow(): 'list' and 'int'"
     ]
    }
   ],
   "source": [
    "[1,2,3,4,5]**2"
   ]
  },
  {
   "cell_type": "markdown",
   "metadata": {},
   "source": [
    "### 인덱싱"
   ]
  },
  {
   "cell_type": "code",
   "execution_count": 14,
   "metadata": {},
   "outputs": [
    {
     "data": {
      "text/plain": [
       "array([77,  3,  4])"
      ]
     },
     "execution_count": 14,
     "metadata": {},
     "output_type": "execute_result"
    }
   ],
   "source": [
    "a[np.array([2,3,4])]"
   ]
  },
  {
   "cell_type": "code",
   "execution_count": 15,
   "metadata": {},
   "outputs": [
    {
     "data": {
      "text/plain": [
       "array([False, False,  True, False, False,  True])"
      ]
     },
     "execution_count": 15,
     "metadata": {},
     "output_type": "execute_result"
    }
   ],
   "source": [
    "a>4"
   ]
  },
  {
   "cell_type": "code",
   "execution_count": 16,
   "metadata": {},
   "outputs": [
    {
     "data": {
      "text/plain": [
       "array([77,  5])"
      ]
     },
     "execution_count": 16,
     "metadata": {},
     "output_type": "execute_result"
    }
   ],
   "source": [
    "a[a>4]"
   ]
  },
  {
   "cell_type": "code",
   "execution_count": 17,
   "metadata": {},
   "outputs": [],
   "source": [
    "a[a>4] = 4"
   ]
  },
  {
   "cell_type": "code",
   "execution_count": 18,
   "metadata": {},
   "outputs": [
    {
     "data": {
      "text/plain": [
       "array([0, 1, 4, 3, 4, 4])"
      ]
     },
     "execution_count": 18,
     "metadata": {},
     "output_type": "execute_result"
    }
   ],
   "source": [
    "a"
   ]
  },
  {
   "cell_type": "code",
   "execution_count": 19,
   "metadata": {},
   "outputs": [
    {
     "data": {
      "text/plain": [
       "array([0, 1, 3, 3, 3, 3])"
      ]
     },
     "execution_count": 19,
     "metadata": {},
     "output_type": "execute_result"
    }
   ],
   "source": [
    "a.clip(0,3)"
   ]
  },
  {
   "cell_type": "markdown",
   "metadata": {},
   "source": [
    "### 존재하지 않는 값 처리"
   ]
  },
  {
   "cell_type": "code",
   "execution_count": 20,
   "metadata": {},
   "outputs": [
    {
     "data": {
      "text/plain": [
       "array([ 1.,  2., nan,  3.,  4.])"
      ]
     },
     "execution_count": 20,
     "metadata": {},
     "output_type": "execute_result"
    }
   ],
   "source": [
    "c = np.array([1,2, np.NAN, 3, 4])\n",
    "c"
   ]
  },
  {
   "cell_type": "code",
   "execution_count": 21,
   "metadata": {},
   "outputs": [
    {
     "data": {
      "text/plain": [
       "array([False, False,  True, False, False])"
      ]
     },
     "execution_count": 21,
     "metadata": {},
     "output_type": "execute_result"
    }
   ],
   "source": [
    "np.isnan(c)"
   ]
  },
  {
   "cell_type": "code",
   "execution_count": 22,
   "metadata": {},
   "outputs": [
    {
     "data": {
      "text/plain": [
       "array([1., 2., 3., 4.])"
      ]
     },
     "execution_count": 22,
     "metadata": {},
     "output_type": "execute_result"
    }
   ],
   "source": [
    "c[~np.isnan(c)]"
   ]
  },
  {
   "cell_type": "code",
   "execution_count": 23,
   "metadata": {},
   "outputs": [
    {
     "data": {
      "text/plain": [
       "2.5"
      ]
     },
     "execution_count": 23,
     "metadata": {},
     "output_type": "execute_result"
    }
   ],
   "source": [
    "np.mean(c[~np.isnan(c)])"
   ]
  },
  {
   "cell_type": "markdown",
   "metadata": {},
   "source": [
    "### 실행시간 비교 "
   ]
  },
  {
   "cell_type": "code",
   "execution_count": 24,
   "metadata": {},
   "outputs": [
    {
     "ename": "NameError",
     "evalue": "name 'xrange' is not defined",
     "output_type": "error",
     "traceback": [
      "\u001b[0;31m---------------------------------------------------------------------------\u001b[0m",
      "\u001b[0;31mNameError\u001b[0m                                 Traceback (most recent call last)",
      "\u001b[0;32m<ipython-input-24-031af0b39c37>\u001b[0m in \u001b[0;36m<module>\u001b[0;34m\u001b[0m\n\u001b[1;32m      1\u001b[0m \u001b[0;32mimport\u001b[0m \u001b[0mtimeit\u001b[0m\u001b[0;34m\u001b[0m\u001b[0;34m\u001b[0m\u001b[0m\n\u001b[1;32m      2\u001b[0m normal_py_sec = timeit.timeit('sum(x*x for x in xrange(1000))',\n\u001b[0;32m----> 3\u001b[0;31m                               number=10000)\n\u001b[0m\u001b[1;32m      4\u001b[0m \u001b[0;34m\u001b[0m\u001b[0m\n\u001b[1;32m      5\u001b[0m \u001b[0mprint\u001b[0m\u001b[0;34m(\u001b[0m\u001b[0;34m\"Normal Python: %f sec\"\u001b[0m\u001b[0;34m%\u001b[0m\u001b[0mnormal_py_sec\u001b[0m\u001b[0;34m)\u001b[0m\u001b[0;34m\u001b[0m\u001b[0;34m\u001b[0m\u001b[0m\n",
      "\u001b[0;32m/anaconda3/lib/python3.7/timeit.py\u001b[0m in \u001b[0;36mtimeit\u001b[0;34m(stmt, setup, timer, number, globals)\u001b[0m\n\u001b[1;32m    230\u001b[0m            number=default_number, globals=None):\n\u001b[1;32m    231\u001b[0m     \u001b[0;34m\"\"\"Convenience function to create Timer object and call timeit method.\"\"\"\u001b[0m\u001b[0;34m\u001b[0m\u001b[0;34m\u001b[0m\u001b[0m\n\u001b[0;32m--> 232\u001b[0;31m     \u001b[0;32mreturn\u001b[0m \u001b[0mTimer\u001b[0m\u001b[0;34m(\u001b[0m\u001b[0mstmt\u001b[0m\u001b[0;34m,\u001b[0m \u001b[0msetup\u001b[0m\u001b[0;34m,\u001b[0m \u001b[0mtimer\u001b[0m\u001b[0;34m,\u001b[0m \u001b[0mglobals\u001b[0m\u001b[0;34m)\u001b[0m\u001b[0;34m.\u001b[0m\u001b[0mtimeit\u001b[0m\u001b[0;34m(\u001b[0m\u001b[0mnumber\u001b[0m\u001b[0;34m)\u001b[0m\u001b[0;34m\u001b[0m\u001b[0;34m\u001b[0m\u001b[0m\n\u001b[0m\u001b[1;32m    233\u001b[0m \u001b[0;34m\u001b[0m\u001b[0m\n\u001b[1;32m    234\u001b[0m def repeat(stmt=\"pass\", setup=\"pass\", timer=default_timer,\n",
      "\u001b[0;32m/anaconda3/lib/python3.7/timeit.py\u001b[0m in \u001b[0;36mtimeit\u001b[0;34m(self, number)\u001b[0m\n\u001b[1;32m    174\u001b[0m         \u001b[0mgc\u001b[0m\u001b[0;34m.\u001b[0m\u001b[0mdisable\u001b[0m\u001b[0;34m(\u001b[0m\u001b[0;34m)\u001b[0m\u001b[0;34m\u001b[0m\u001b[0;34m\u001b[0m\u001b[0m\n\u001b[1;32m    175\u001b[0m         \u001b[0;32mtry\u001b[0m\u001b[0;34m:\u001b[0m\u001b[0;34m\u001b[0m\u001b[0;34m\u001b[0m\u001b[0m\n\u001b[0;32m--> 176\u001b[0;31m             \u001b[0mtiming\u001b[0m \u001b[0;34m=\u001b[0m \u001b[0mself\u001b[0m\u001b[0;34m.\u001b[0m\u001b[0minner\u001b[0m\u001b[0;34m(\u001b[0m\u001b[0mit\u001b[0m\u001b[0;34m,\u001b[0m \u001b[0mself\u001b[0m\u001b[0;34m.\u001b[0m\u001b[0mtimer\u001b[0m\u001b[0;34m)\u001b[0m\u001b[0;34m\u001b[0m\u001b[0;34m\u001b[0m\u001b[0m\n\u001b[0m\u001b[1;32m    177\u001b[0m         \u001b[0;32mfinally\u001b[0m\u001b[0;34m:\u001b[0m\u001b[0;34m\u001b[0m\u001b[0;34m\u001b[0m\u001b[0m\n\u001b[1;32m    178\u001b[0m             \u001b[0;32mif\u001b[0m \u001b[0mgcold\u001b[0m\u001b[0;34m:\u001b[0m\u001b[0;34m\u001b[0m\u001b[0;34m\u001b[0m\u001b[0m\n",
      "\u001b[0;32m/anaconda3/lib/python3.7/timeit.py\u001b[0m in \u001b[0;36minner\u001b[0;34m(_it, _timer)\u001b[0m\n",
      "\u001b[0;31mNameError\u001b[0m: name 'xrange' is not defined"
     ]
    }
   ],
   "source": [
    "import timeit\n",
    "normal_py_sec = timeit.timeit('sum(x*x for x in xrange(1000))',\n",
    "                              number=10000)\n",
    "   \n",
    "print(\"Normal Python: %f sec\"%normal_py_sec)"
   ]
  },
  {
   "cell_type": "markdown",
   "metadata": {},
   "source": [
    "[파이썬] 파이썬 에러 NameError: name 'xrange' is not defined : range vs. xrange 차이점\n",
    "\n",
    "출처: https://korbillgates.tistory.com/96 [생물정보학자의 블로그]"
   ]
  },
  {
   "cell_type": "code",
   "execution_count": 25,
   "metadata": {},
   "outputs": [
    {
     "name": "stdout",
     "output_type": "stream",
     "text": [
      "Normal Python: 1.253849 sec\n"
     ]
    }
   ],
   "source": [
    "import timeit\n",
    "normal_py_sec = timeit.timeit('sum(x*x for x in range(1000))',\n",
    "                              number=10000)\n",
    "   \n",
    "print(\"Normal Python: %f sec\"%normal_py_sec)"
   ]
  },
  {
   "cell_type": "code",
   "execution_count": 26,
   "metadata": {},
   "outputs": [
    {
     "name": "stdout",
     "output_type": "stream",
     "text": [
      "Naive NumPy: 1.509116 sec\n"
     ]
    }
   ],
   "source": [
    "naive_np_sec = timeit.timeit('sum(na*na)',\n",
    "                             setup=\"import numpy as np; na=np.arange(1000)\",\n",
    "                             number=10000)\n",
    "print(\"Naive NumPy: %f sec\"%naive_np_sec)"
   ]
  },
  {
   "cell_type": "code",
   "execution_count": 27,
   "metadata": {},
   "outputs": [
    {
     "name": "stdout",
     "output_type": "stream",
     "text": [
      "Good NumPy: 0.027353 sec\n"
     ]
    }
   ],
   "source": [
    "good_np_sec = timeit.timeit('na.dot(na)',\n",
    "                            setup=\"import numpy as np; na=np.arange(1000)\",\n",
    "                            number=10000)\n",
    "print(\"Good NumPy: %f sec\"%good_np_sec)"
   ]
  },
  {
   "cell_type": "code",
   "execution_count": 28,
   "metadata": {},
   "outputs": [
    {
     "data": {
      "text/plain": [
       "dtype('int64')"
      ]
     },
     "execution_count": 28,
     "metadata": {},
     "output_type": "execute_result"
    }
   ],
   "source": [
    "a.dtype"
   ]
  },
  {
   "cell_type": "code",
   "execution_count": 29,
   "metadata": {},
   "outputs": [
    {
     "data": {
      "text/plain": [
       "array(['1', 'stringy'], dtype='<U21')"
      ]
     },
     "execution_count": 29,
     "metadata": {},
     "output_type": "execute_result"
    }
   ],
   "source": [
    "np.array([1, \"stringy\"])"
   ]
  },
  {
   "cell_type": "code",
   "execution_count": 30,
   "metadata": {},
   "outputs": [
    {
     "data": {
      "text/plain": [
       "array([1, 'stringy', {1, 2, 3}], dtype=object)"
      ]
     },
     "execution_count": 30,
     "metadata": {},
     "output_type": "execute_result"
    }
   ],
   "source": [
    "np.array([1, \"stringy\", set([1,2,3])])"
   ]
  },
  {
   "cell_type": "markdown",
   "metadata": {},
   "source": [
    "## SciPy 배우기"
   ]
  },
  {
   "cell_type": "code",
   "execution_count": 31,
   "metadata": {},
   "outputs": [],
   "source": [
    "import scipy, numpy"
   ]
  },
  {
   "cell_type": "code",
   "execution_count": 32,
   "metadata": {},
   "outputs": [
    {
     "data": {
      "text/plain": [
       "'1.1.0'"
      ]
     },
     "execution_count": 32,
     "metadata": {},
     "output_type": "execute_result"
    }
   ],
   "source": [
    "scipy.version.full_version"
   ]
  },
  {
   "cell_type": "code",
   "execution_count": 33,
   "metadata": {},
   "outputs": [
    {
     "data": {
      "text/plain": [
       "True"
      ]
     },
     "execution_count": 33,
     "metadata": {},
     "output_type": "execute_result"
    }
   ],
   "source": [
    "scipy.dot is numpy.dot"
   ]
  },
  {
   "cell_type": "markdown",
   "metadata": {},
   "source": [
    "<img src='./img/tbl01_scipytoolbox.png'/>"
   ]
  },
  {
   "cell_type": "markdown",
   "metadata": {},
   "source": [
    "## Cheatsheet"
   ]
  },
  {
   "cell_type": "markdown",
   "metadata": {},
   "source": [
    "<img src='./img/ml_map.png'/>\n",
    "\n",
    "[Choosing the right estimator](https://scikit-learn.org/stable/tutorial/machine_learning_map/index.html)"
   ]
  },
  {
   "cell_type": "markdown",
   "metadata": {},
   "source": [
    "![scikit-learn](https://tensorflowkorea.files.wordpress.com/2017/01/scikit_learn_cheat_sheet_python.png)\n",
    "\n",
    "![pandas](https://tensorflowkorea.files.wordpress.com/2017/01/pandaspythonfordatascience.png)\n",
    "\n",
    "![numpy](https://tensorflowkorea.files.wordpress.com/2017/01/numpy_python_cheat_sheet.png)\n",
    "\n",
    "![SciPy](https://tensorflowkorea.files.wordpress.com/2017/01/python_scipy_cheat_sheet_linear_algebra.png)\n",
    "\n",
    "![matplotlib](https://tensorflowkorea.files.wordpress.com/2017/01/python_matplotlib_cheat_sheet.png)"
   ]
  },
  {
   "cell_type": "markdown",
   "metadata": {},
   "source": [
    "pdf 버전은 여기-[scikit-learn](https://tensorflowkorea.files.wordpress.com/2017/01/scikit_learn_cheat_sheet_python.pdf), [pandas](https://tensorflowkorea.files.wordpress.com/2017/01/pandaspythonfordatascience.pdf), [numpy](https://tensorflowkorea.files.wordpress.com/2017/01/numpy_python_cheat_sheet.pdf), [SciPy](https://tensorflowkorea.files.wordpress.com/2017/01/python_scipy_cheat_sheet_linear_algebra.pdf), [matplotlib](https://tensorflowkorea.files.wordpress.com/2017/01/python_matplotlib_cheat_sheet.pdf)"
   ]
  },
  {
   "cell_type": "markdown",
   "metadata": {},
   "source": [
    "# 첫 번째 기계 학습 애플리케이션"
   ]
  },
  {
   "cell_type": "markdown",
   "metadata": {},
   "source": [
    "가상 창업 회사인 MLAAS. \n",
    "* 웹상에서 기계 학습 알고리즘을 제공하는 서비스를 함.\n",
    "* 웹 요청을 처리하고자 기반 시설을 늘리려고 함\n",
    "* 비싼 장비를 무턱대로 살 수는 없다.\n",
    "* 현재 시스템은, 시간당 최대 100,000번의 요청을 처리할 수 있다.\n",
    "* 최대로 가용하며 모든 요청을 완벽하게 처리하기 위해 앞으로 클라우드에 추가 장비를 설치해야 하는 시점 (시간당 100,000번을 알고 싶다.) "
   ]
  },
  {
   "cell_type": "markdown",
   "metadata": {},
   "source": [
    "## 데이터 읽기"
   ]
  },
  {
   "cell_type": "markdown",
   "metadata": {},
   "source": [
    "데이터 설명 : web_traffic.tsv\n",
    "* 지난달 통계 \n",
    "* 탭으로 구분됨\n",
    "* 시간당 요청 수\n",
    "* 각 줄은 연속적으로 나열된 시간, 그 시간의 요청수\n"
   ]
  },
  {
   "cell_type": "code",
   "execution_count": 34,
   "metadata": {},
   "outputs": [
    {
     "name": "stdout",
     "output_type": "stream",
     "text": [
      "1\t2272\r\n",
      "2\tnan\r\n",
      "3\t1386\r\n",
      "4\t1365\r\n",
      "5\t1488\r\n",
      "6\t1337\r\n",
      "7\t1883\r\n",
      "8\t2283\r\n",
      "9\t1335\r\n",
      "10\t1025\r\n"
     ]
    }
   ],
   "source": [
    "!head ./data/web_traffic.tsv"
   ]
  },
  {
   "cell_type": "code",
   "execution_count": 35,
   "metadata": {},
   "outputs": [
    {
     "data": {
      "text/plain": [
       "array([[1.000e+00, 2.272e+03],\n",
       "       [2.000e+00,       nan],\n",
       "       [3.000e+00, 1.386e+03],\n",
       "       ...,\n",
       "       [7.410e+02, 5.392e+03],\n",
       "       [7.420e+02, 5.906e+03],\n",
       "       [7.430e+02, 4.881e+03]])"
      ]
     },
     "execution_count": 35,
     "metadata": {},
     "output_type": "execute_result"
    }
   ],
   "source": [
    "import scipy as sp\n",
    "data = sp.genfromtxt(\"./data/web_traffic.tsv\", delimiter=\"\\t\")"
   ]
  },
  {
   "cell_type": "code",
   "execution_count": 36,
   "metadata": {},
   "outputs": [
    {
     "name": "stdout",
     "output_type": "stream",
     "text": [
      "(743, 2)\n"
     ]
    }
   ],
   "source": [
    "print(data.shape)"
   ]
  },
  {
   "cell_type": "code",
   "execution_count": 37,
   "metadata": {},
   "outputs": [
    {
     "data": {
      "text/plain": [
       "array([[1.000e+00, 2.272e+03],\n",
       "       [2.000e+00,       nan],\n",
       "       [3.000e+00, 1.386e+03],\n",
       "       ...,\n",
       "       [7.410e+02, 5.392e+03],\n",
       "       [7.420e+02, 5.906e+03],\n",
       "       [7.430e+02, 4.881e+03]])"
      ]
     },
     "execution_count": 37,
     "metadata": {},
     "output_type": "execute_result"
    }
   ],
   "source": [
    "data"
   ]
  },
  {
   "cell_type": "markdown",
   "metadata": {},
   "source": [
    "## 데이터 정리와 전처리"
   ]
  },
  {
   "cell_type": "code",
   "execution_count": 38,
   "metadata": {},
   "outputs": [],
   "source": [
    "# 743개의 데이터를 시간과 특정시간 요청수를 나타내는 2개의 벡터로 나누자\n",
    "x = data[:,0]\n",
    "y = data[:,1]"
   ]
  },
  {
   "cell_type": "code",
   "execution_count": 39,
   "metadata": {},
   "outputs": [
    {
     "data": {
      "text/plain": [
       "8"
      ]
     },
     "execution_count": 39,
     "metadata": {},
     "output_type": "execute_result"
    }
   ],
   "source": [
    "# 시간 정보에 잘못된 값 nan이 얼마나 포함되어 있는가?\n",
    "sp.sum(sp.isnan(y))"
   ]
  },
  {
   "cell_type": "code",
   "execution_count": 40,
   "metadata": {},
   "outputs": [],
   "source": [
    "# 걸러내고, 유효 엔트기만 선별하자\n",
    "x = x[~sp.isnan(y)]\n",
    "y = y[~sp.isnan(y)]"
   ]
  },
  {
   "cell_type": "code",
   "execution_count": 42,
   "metadata": {},
   "outputs": [
    {
     "data": {
      "application/javascript": [
       "/* Put everything inside the global mpl namespace */\n",
       "window.mpl = {};\n",
       "\n",
       "\n",
       "mpl.get_websocket_type = function() {\n",
       "    if (typeof(WebSocket) !== 'undefined') {\n",
       "        return WebSocket;\n",
       "    } else if (typeof(MozWebSocket) !== 'undefined') {\n",
       "        return MozWebSocket;\n",
       "    } else {\n",
       "        alert('Your browser does not have WebSocket support.' +\n",
       "              'Please try Chrome, Safari or Firefox ≥ 6. ' +\n",
       "              'Firefox 4 and 5 are also supported but you ' +\n",
       "              'have to enable WebSockets in about:config.');\n",
       "    };\n",
       "}\n",
       "\n",
       "mpl.figure = function(figure_id, websocket, ondownload, parent_element) {\n",
       "    this.id = figure_id;\n",
       "\n",
       "    this.ws = websocket;\n",
       "\n",
       "    this.supports_binary = (this.ws.binaryType != undefined);\n",
       "\n",
       "    if (!this.supports_binary) {\n",
       "        var warnings = document.getElementById(\"mpl-warnings\");\n",
       "        if (warnings) {\n",
       "            warnings.style.display = 'block';\n",
       "            warnings.textContent = (\n",
       "                \"This browser does not support binary websocket messages. \" +\n",
       "                    \"Performance may be slow.\");\n",
       "        }\n",
       "    }\n",
       "\n",
       "    this.imageObj = new Image();\n",
       "\n",
       "    this.context = undefined;\n",
       "    this.message = undefined;\n",
       "    this.canvas = undefined;\n",
       "    this.rubberband_canvas = undefined;\n",
       "    this.rubberband_context = undefined;\n",
       "    this.format_dropdown = undefined;\n",
       "\n",
       "    this.image_mode = 'full';\n",
       "\n",
       "    this.root = $('<div/>');\n",
       "    this._root_extra_style(this.root)\n",
       "    this.root.attr('style', 'display: inline-block');\n",
       "\n",
       "    $(parent_element).append(this.root);\n",
       "\n",
       "    this._init_header(this);\n",
       "    this._init_canvas(this);\n",
       "    this._init_toolbar(this);\n",
       "\n",
       "    var fig = this;\n",
       "\n",
       "    this.waiting = false;\n",
       "\n",
       "    this.ws.onopen =  function () {\n",
       "            fig.send_message(\"supports_binary\", {value: fig.supports_binary});\n",
       "            fig.send_message(\"send_image_mode\", {});\n",
       "            if (mpl.ratio != 1) {\n",
       "                fig.send_message(\"set_dpi_ratio\", {'dpi_ratio': mpl.ratio});\n",
       "            }\n",
       "            fig.send_message(\"refresh\", {});\n",
       "        }\n",
       "\n",
       "    this.imageObj.onload = function() {\n",
       "            if (fig.image_mode == 'full') {\n",
       "                // Full images could contain transparency (where diff images\n",
       "                // almost always do), so we need to clear the canvas so that\n",
       "                // there is no ghosting.\n",
       "                fig.context.clearRect(0, 0, fig.canvas.width, fig.canvas.height);\n",
       "            }\n",
       "            fig.context.drawImage(fig.imageObj, 0, 0);\n",
       "        };\n",
       "\n",
       "    this.imageObj.onunload = function() {\n",
       "        fig.ws.close();\n",
       "    }\n",
       "\n",
       "    this.ws.onmessage = this._make_on_message_function(this);\n",
       "\n",
       "    this.ondownload = ondownload;\n",
       "}\n",
       "\n",
       "mpl.figure.prototype._init_header = function() {\n",
       "    var titlebar = $(\n",
       "        '<div class=\"ui-dialog-titlebar ui-widget-header ui-corner-all ' +\n",
       "        'ui-helper-clearfix\"/>');\n",
       "    var titletext = $(\n",
       "        '<div class=\"ui-dialog-title\" style=\"width: 100%; ' +\n",
       "        'text-align: center; padding: 3px;\"/>');\n",
       "    titlebar.append(titletext)\n",
       "    this.root.append(titlebar);\n",
       "    this.header = titletext[0];\n",
       "}\n",
       "\n",
       "\n",
       "\n",
       "mpl.figure.prototype._canvas_extra_style = function(canvas_div) {\n",
       "\n",
       "}\n",
       "\n",
       "\n",
       "mpl.figure.prototype._root_extra_style = function(canvas_div) {\n",
       "\n",
       "}\n",
       "\n",
       "mpl.figure.prototype._init_canvas = function() {\n",
       "    var fig = this;\n",
       "\n",
       "    var canvas_div = $('<div/>');\n",
       "\n",
       "    canvas_div.attr('style', 'position: relative; clear: both; outline: 0');\n",
       "\n",
       "    function canvas_keyboard_event(event) {\n",
       "        return fig.key_event(event, event['data']);\n",
       "    }\n",
       "\n",
       "    canvas_div.keydown('key_press', canvas_keyboard_event);\n",
       "    canvas_div.keyup('key_release', canvas_keyboard_event);\n",
       "    this.canvas_div = canvas_div\n",
       "    this._canvas_extra_style(canvas_div)\n",
       "    this.root.append(canvas_div);\n",
       "\n",
       "    var canvas = $('<canvas/>');\n",
       "    canvas.addClass('mpl-canvas');\n",
       "    canvas.attr('style', \"left: 0; top: 0; z-index: 0; outline: 0\")\n",
       "\n",
       "    this.canvas = canvas[0];\n",
       "    this.context = canvas[0].getContext(\"2d\");\n",
       "\n",
       "    var backingStore = this.context.backingStorePixelRatio ||\n",
       "\tthis.context.webkitBackingStorePixelRatio ||\n",
       "\tthis.context.mozBackingStorePixelRatio ||\n",
       "\tthis.context.msBackingStorePixelRatio ||\n",
       "\tthis.context.oBackingStorePixelRatio ||\n",
       "\tthis.context.backingStorePixelRatio || 1;\n",
       "\n",
       "    mpl.ratio = (window.devicePixelRatio || 1) / backingStore;\n",
       "\n",
       "    var rubberband = $('<canvas/>');\n",
       "    rubberband.attr('style', \"position: absolute; left: 0; top: 0; z-index: 1;\")\n",
       "\n",
       "    var pass_mouse_events = true;\n",
       "\n",
       "    canvas_div.resizable({\n",
       "        start: function(event, ui) {\n",
       "            pass_mouse_events = false;\n",
       "        },\n",
       "        resize: function(event, ui) {\n",
       "            fig.request_resize(ui.size.width, ui.size.height);\n",
       "        },\n",
       "        stop: function(event, ui) {\n",
       "            pass_mouse_events = true;\n",
       "            fig.request_resize(ui.size.width, ui.size.height);\n",
       "        },\n",
       "    });\n",
       "\n",
       "    function mouse_event_fn(event) {\n",
       "        if (pass_mouse_events)\n",
       "            return fig.mouse_event(event, event['data']);\n",
       "    }\n",
       "\n",
       "    rubberband.mousedown('button_press', mouse_event_fn);\n",
       "    rubberband.mouseup('button_release', mouse_event_fn);\n",
       "    // Throttle sequential mouse events to 1 every 20ms.\n",
       "    rubberband.mousemove('motion_notify', mouse_event_fn);\n",
       "\n",
       "    rubberband.mouseenter('figure_enter', mouse_event_fn);\n",
       "    rubberband.mouseleave('figure_leave', mouse_event_fn);\n",
       "\n",
       "    canvas_div.on(\"wheel\", function (event) {\n",
       "        event = event.originalEvent;\n",
       "        event['data'] = 'scroll'\n",
       "        if (event.deltaY < 0) {\n",
       "            event.step = 1;\n",
       "        } else {\n",
       "            event.step = -1;\n",
       "        }\n",
       "        mouse_event_fn(event);\n",
       "    });\n",
       "\n",
       "    canvas_div.append(canvas);\n",
       "    canvas_div.append(rubberband);\n",
       "\n",
       "    this.rubberband = rubberband;\n",
       "    this.rubberband_canvas = rubberband[0];\n",
       "    this.rubberband_context = rubberband[0].getContext(\"2d\");\n",
       "    this.rubberband_context.strokeStyle = \"#000000\";\n",
       "\n",
       "    this._resize_canvas = function(width, height) {\n",
       "        // Keep the size of the canvas, canvas container, and rubber band\n",
       "        // canvas in synch.\n",
       "        canvas_div.css('width', width)\n",
       "        canvas_div.css('height', height)\n",
       "\n",
       "        canvas.attr('width', width * mpl.ratio);\n",
       "        canvas.attr('height', height * mpl.ratio);\n",
       "        canvas.attr('style', 'width: ' + width + 'px; height: ' + height + 'px;');\n",
       "\n",
       "        rubberband.attr('width', width);\n",
       "        rubberband.attr('height', height);\n",
       "    }\n",
       "\n",
       "    // Set the figure to an initial 600x600px, this will subsequently be updated\n",
       "    // upon first draw.\n",
       "    this._resize_canvas(600, 600);\n",
       "\n",
       "    // Disable right mouse context menu.\n",
       "    $(this.rubberband_canvas).bind(\"contextmenu\",function(e){\n",
       "        return false;\n",
       "    });\n",
       "\n",
       "    function set_focus () {\n",
       "        canvas.focus();\n",
       "        canvas_div.focus();\n",
       "    }\n",
       "\n",
       "    window.setTimeout(set_focus, 100);\n",
       "}\n",
       "\n",
       "mpl.figure.prototype._init_toolbar = function() {\n",
       "    var fig = this;\n",
       "\n",
       "    var nav_element = $('<div/>')\n",
       "    nav_element.attr('style', 'width: 100%');\n",
       "    this.root.append(nav_element);\n",
       "\n",
       "    // Define a callback function for later on.\n",
       "    function toolbar_event(event) {\n",
       "        return fig.toolbar_button_onclick(event['data']);\n",
       "    }\n",
       "    function toolbar_mouse_event(event) {\n",
       "        return fig.toolbar_button_onmouseover(event['data']);\n",
       "    }\n",
       "\n",
       "    for(var toolbar_ind in mpl.toolbar_items) {\n",
       "        var name = mpl.toolbar_items[toolbar_ind][0];\n",
       "        var tooltip = mpl.toolbar_items[toolbar_ind][1];\n",
       "        var image = mpl.toolbar_items[toolbar_ind][2];\n",
       "        var method_name = mpl.toolbar_items[toolbar_ind][3];\n",
       "\n",
       "        if (!name) {\n",
       "            // put a spacer in here.\n",
       "            continue;\n",
       "        }\n",
       "        var button = $('<button/>');\n",
       "        button.addClass('ui-button ui-widget ui-state-default ui-corner-all ' +\n",
       "                        'ui-button-icon-only');\n",
       "        button.attr('role', 'button');\n",
       "        button.attr('aria-disabled', 'false');\n",
       "        button.click(method_name, toolbar_event);\n",
       "        button.mouseover(tooltip, toolbar_mouse_event);\n",
       "\n",
       "        var icon_img = $('<span/>');\n",
       "        icon_img.addClass('ui-button-icon-primary ui-icon');\n",
       "        icon_img.addClass(image);\n",
       "        icon_img.addClass('ui-corner-all');\n",
       "\n",
       "        var tooltip_span = $('<span/>');\n",
       "        tooltip_span.addClass('ui-button-text');\n",
       "        tooltip_span.html(tooltip);\n",
       "\n",
       "        button.append(icon_img);\n",
       "        button.append(tooltip_span);\n",
       "\n",
       "        nav_element.append(button);\n",
       "    }\n",
       "\n",
       "    var fmt_picker_span = $('<span/>');\n",
       "\n",
       "    var fmt_picker = $('<select/>');\n",
       "    fmt_picker.addClass('mpl-toolbar-option ui-widget ui-widget-content');\n",
       "    fmt_picker_span.append(fmt_picker);\n",
       "    nav_element.append(fmt_picker_span);\n",
       "    this.format_dropdown = fmt_picker[0];\n",
       "\n",
       "    for (var ind in mpl.extensions) {\n",
       "        var fmt = mpl.extensions[ind];\n",
       "        var option = $(\n",
       "            '<option/>', {selected: fmt === mpl.default_extension}).html(fmt);\n",
       "        fmt_picker.append(option)\n",
       "    }\n",
       "\n",
       "    // Add hover states to the ui-buttons\n",
       "    $( \".ui-button\" ).hover(\n",
       "        function() { $(this).addClass(\"ui-state-hover\");},\n",
       "        function() { $(this).removeClass(\"ui-state-hover\");}\n",
       "    );\n",
       "\n",
       "    var status_bar = $('<span class=\"mpl-message\"/>');\n",
       "    nav_element.append(status_bar);\n",
       "    this.message = status_bar[0];\n",
       "}\n",
       "\n",
       "mpl.figure.prototype.request_resize = function(x_pixels, y_pixels) {\n",
       "    // Request matplotlib to resize the figure. Matplotlib will then trigger a resize in the client,\n",
       "    // which will in turn request a refresh of the image.\n",
       "    this.send_message('resize', {'width': x_pixels, 'height': y_pixels});\n",
       "}\n",
       "\n",
       "mpl.figure.prototype.send_message = function(type, properties) {\n",
       "    properties['type'] = type;\n",
       "    properties['figure_id'] = this.id;\n",
       "    this.ws.send(JSON.stringify(properties));\n",
       "}\n",
       "\n",
       "mpl.figure.prototype.send_draw_message = function() {\n",
       "    if (!this.waiting) {\n",
       "        this.waiting = true;\n",
       "        this.ws.send(JSON.stringify({type: \"draw\", figure_id: this.id}));\n",
       "    }\n",
       "}\n",
       "\n",
       "\n",
       "mpl.figure.prototype.handle_save = function(fig, msg) {\n",
       "    var format_dropdown = fig.format_dropdown;\n",
       "    var format = format_dropdown.options[format_dropdown.selectedIndex].value;\n",
       "    fig.ondownload(fig, format);\n",
       "}\n",
       "\n",
       "\n",
       "mpl.figure.prototype.handle_resize = function(fig, msg) {\n",
       "    var size = msg['size'];\n",
       "    if (size[0] != fig.canvas.width || size[1] != fig.canvas.height) {\n",
       "        fig._resize_canvas(size[0], size[1]);\n",
       "        fig.send_message(\"refresh\", {});\n",
       "    };\n",
       "}\n",
       "\n",
       "mpl.figure.prototype.handle_rubberband = function(fig, msg) {\n",
       "    var x0 = msg['x0'] / mpl.ratio;\n",
       "    var y0 = (fig.canvas.height - msg['y0']) / mpl.ratio;\n",
       "    var x1 = msg['x1'] / mpl.ratio;\n",
       "    var y1 = (fig.canvas.height - msg['y1']) / mpl.ratio;\n",
       "    x0 = Math.floor(x0) + 0.5;\n",
       "    y0 = Math.floor(y0) + 0.5;\n",
       "    x1 = Math.floor(x1) + 0.5;\n",
       "    y1 = Math.floor(y1) + 0.5;\n",
       "    var min_x = Math.min(x0, x1);\n",
       "    var min_y = Math.min(y0, y1);\n",
       "    var width = Math.abs(x1 - x0);\n",
       "    var height = Math.abs(y1 - y0);\n",
       "\n",
       "    fig.rubberband_context.clearRect(\n",
       "        0, 0, fig.canvas.width, fig.canvas.height);\n",
       "\n",
       "    fig.rubberband_context.strokeRect(min_x, min_y, width, height);\n",
       "}\n",
       "\n",
       "mpl.figure.prototype.handle_figure_label = function(fig, msg) {\n",
       "    // Updates the figure title.\n",
       "    fig.header.textContent = msg['label'];\n",
       "}\n",
       "\n",
       "mpl.figure.prototype.handle_cursor = function(fig, msg) {\n",
       "    var cursor = msg['cursor'];\n",
       "    switch(cursor)\n",
       "    {\n",
       "    case 0:\n",
       "        cursor = 'pointer';\n",
       "        break;\n",
       "    case 1:\n",
       "        cursor = 'default';\n",
       "        break;\n",
       "    case 2:\n",
       "        cursor = 'crosshair';\n",
       "        break;\n",
       "    case 3:\n",
       "        cursor = 'move';\n",
       "        break;\n",
       "    }\n",
       "    fig.rubberband_canvas.style.cursor = cursor;\n",
       "}\n",
       "\n",
       "mpl.figure.prototype.handle_message = function(fig, msg) {\n",
       "    fig.message.textContent = msg['message'];\n",
       "}\n",
       "\n",
       "mpl.figure.prototype.handle_draw = function(fig, msg) {\n",
       "    // Request the server to send over a new figure.\n",
       "    fig.send_draw_message();\n",
       "}\n",
       "\n",
       "mpl.figure.prototype.handle_image_mode = function(fig, msg) {\n",
       "    fig.image_mode = msg['mode'];\n",
       "}\n",
       "\n",
       "mpl.figure.prototype.updated_canvas_event = function() {\n",
       "    // Called whenever the canvas gets updated.\n",
       "    this.send_message(\"ack\", {});\n",
       "}\n",
       "\n",
       "// A function to construct a web socket function for onmessage handling.\n",
       "// Called in the figure constructor.\n",
       "mpl.figure.prototype._make_on_message_function = function(fig) {\n",
       "    return function socket_on_message(evt) {\n",
       "        if (evt.data instanceof Blob) {\n",
       "            /* FIXME: We get \"Resource interpreted as Image but\n",
       "             * transferred with MIME type text/plain:\" errors on\n",
       "             * Chrome.  But how to set the MIME type?  It doesn't seem\n",
       "             * to be part of the websocket stream */\n",
       "            evt.data.type = \"image/png\";\n",
       "\n",
       "            /* Free the memory for the previous frames */\n",
       "            if (fig.imageObj.src) {\n",
       "                (window.URL || window.webkitURL).revokeObjectURL(\n",
       "                    fig.imageObj.src);\n",
       "            }\n",
       "\n",
       "            fig.imageObj.src = (window.URL || window.webkitURL).createObjectURL(\n",
       "                evt.data);\n",
       "            fig.updated_canvas_event();\n",
       "            fig.waiting = false;\n",
       "            return;\n",
       "        }\n",
       "        else if (typeof evt.data === 'string' && evt.data.slice(0, 21) == \"data:image/png;base64\") {\n",
       "            fig.imageObj.src = evt.data;\n",
       "            fig.updated_canvas_event();\n",
       "            fig.waiting = false;\n",
       "            return;\n",
       "        }\n",
       "\n",
       "        var msg = JSON.parse(evt.data);\n",
       "        var msg_type = msg['type'];\n",
       "\n",
       "        // Call the  \"handle_{type}\" callback, which takes\n",
       "        // the figure and JSON message as its only arguments.\n",
       "        try {\n",
       "            var callback = fig[\"handle_\" + msg_type];\n",
       "        } catch (e) {\n",
       "            console.log(\"No handler for the '\" + msg_type + \"' message type: \", msg);\n",
       "            return;\n",
       "        }\n",
       "\n",
       "        if (callback) {\n",
       "            try {\n",
       "                // console.log(\"Handling '\" + msg_type + \"' message: \", msg);\n",
       "                callback(fig, msg);\n",
       "            } catch (e) {\n",
       "                console.log(\"Exception inside the 'handler_\" + msg_type + \"' callback:\", e, e.stack, msg);\n",
       "            }\n",
       "        }\n",
       "    };\n",
       "}\n",
       "\n",
       "// from http://stackoverflow.com/questions/1114465/getting-mouse-location-in-canvas\n",
       "mpl.findpos = function(e) {\n",
       "    //this section is from http://www.quirksmode.org/js/events_properties.html\n",
       "    var targ;\n",
       "    if (!e)\n",
       "        e = window.event;\n",
       "    if (e.target)\n",
       "        targ = e.target;\n",
       "    else if (e.srcElement)\n",
       "        targ = e.srcElement;\n",
       "    if (targ.nodeType == 3) // defeat Safari bug\n",
       "        targ = targ.parentNode;\n",
       "\n",
       "    // jQuery normalizes the pageX and pageY\n",
       "    // pageX,Y are the mouse positions relative to the document\n",
       "    // offset() returns the position of the element relative to the document\n",
       "    var x = e.pageX - $(targ).offset().left;\n",
       "    var y = e.pageY - $(targ).offset().top;\n",
       "\n",
       "    return {\"x\": x, \"y\": y};\n",
       "};\n",
       "\n",
       "/*\n",
       " * return a copy of an object with only non-object keys\n",
       " * we need this to avoid circular references\n",
       " * http://stackoverflow.com/a/24161582/3208463\n",
       " */\n",
       "function simpleKeys (original) {\n",
       "  return Object.keys(original).reduce(function (obj, key) {\n",
       "    if (typeof original[key] !== 'object')\n",
       "        obj[key] = original[key]\n",
       "    return obj;\n",
       "  }, {});\n",
       "}\n",
       "\n",
       "mpl.figure.prototype.mouse_event = function(event, name) {\n",
       "    var canvas_pos = mpl.findpos(event)\n",
       "\n",
       "    if (name === 'button_press')\n",
       "    {\n",
       "        this.canvas.focus();\n",
       "        this.canvas_div.focus();\n",
       "    }\n",
       "\n",
       "    var x = canvas_pos.x * mpl.ratio;\n",
       "    var y = canvas_pos.y * mpl.ratio;\n",
       "\n",
       "    this.send_message(name, {x: x, y: y, button: event.button,\n",
       "                             step: event.step,\n",
       "                             guiEvent: simpleKeys(event)});\n",
       "\n",
       "    /* This prevents the web browser from automatically changing to\n",
       "     * the text insertion cursor when the button is pressed.  We want\n",
       "     * to control all of the cursor setting manually through the\n",
       "     * 'cursor' event from matplotlib */\n",
       "    event.preventDefault();\n",
       "    return false;\n",
       "}\n",
       "\n",
       "mpl.figure.prototype._key_event_extra = function(event, name) {\n",
       "    // Handle any extra behaviour associated with a key event\n",
       "}\n",
       "\n",
       "mpl.figure.prototype.key_event = function(event, name) {\n",
       "\n",
       "    // Prevent repeat events\n",
       "    if (name == 'key_press')\n",
       "    {\n",
       "        if (event.which === this._key)\n",
       "            return;\n",
       "        else\n",
       "            this._key = event.which;\n",
       "    }\n",
       "    if (name == 'key_release')\n",
       "        this._key = null;\n",
       "\n",
       "    var value = '';\n",
       "    if (event.ctrlKey && event.which != 17)\n",
       "        value += \"ctrl+\";\n",
       "    if (event.altKey && event.which != 18)\n",
       "        value += \"alt+\";\n",
       "    if (event.shiftKey && event.which != 16)\n",
       "        value += \"shift+\";\n",
       "\n",
       "    value += 'k';\n",
       "    value += event.which.toString();\n",
       "\n",
       "    this._key_event_extra(event, name);\n",
       "\n",
       "    this.send_message(name, {key: value,\n",
       "                             guiEvent: simpleKeys(event)});\n",
       "    return false;\n",
       "}\n",
       "\n",
       "mpl.figure.prototype.toolbar_button_onclick = function(name) {\n",
       "    if (name == 'download') {\n",
       "        this.handle_save(this, null);\n",
       "    } else {\n",
       "        this.send_message(\"toolbar_button\", {name: name});\n",
       "    }\n",
       "};\n",
       "\n",
       "mpl.figure.prototype.toolbar_button_onmouseover = function(tooltip) {\n",
       "    this.message.textContent = tooltip;\n",
       "};\n",
       "mpl.toolbar_items = [[\"Home\", \"Reset original view\", \"fa fa-home icon-home\", \"home\"], [\"Back\", \"Back to previous view\", \"fa fa-arrow-left icon-arrow-left\", \"back\"], [\"Forward\", \"Forward to next view\", \"fa fa-arrow-right icon-arrow-right\", \"forward\"], [\"\", \"\", \"\", \"\"], [\"Pan\", \"Pan axes with left mouse, zoom with right\", \"fa fa-arrows icon-move\", \"pan\"], [\"Zoom\", \"Zoom to rectangle\", \"fa fa-square-o icon-check-empty\", \"zoom\"], [\"\", \"\", \"\", \"\"], [\"Download\", \"Download plot\", \"fa fa-floppy-o icon-save\", \"download\"]];\n",
       "\n",
       "mpl.extensions = [\"eps\", \"jpeg\", \"pdf\", \"png\", \"ps\", \"raw\", \"svg\", \"tif\"];\n",
       "\n",
       "mpl.default_extension = \"png\";var comm_websocket_adapter = function(comm) {\n",
       "    // Create a \"websocket\"-like object which calls the given IPython comm\n",
       "    // object with the appropriate methods. Currently this is a non binary\n",
       "    // socket, so there is still some room for performance tuning.\n",
       "    var ws = {};\n",
       "\n",
       "    ws.close = function() {\n",
       "        comm.close()\n",
       "    };\n",
       "    ws.send = function(m) {\n",
       "        //console.log('sending', m);\n",
       "        comm.send(m);\n",
       "    };\n",
       "    // Register the callback with on_msg.\n",
       "    comm.on_msg(function(msg) {\n",
       "        //console.log('receiving', msg['content']['data'], msg);\n",
       "        // Pass the mpl event to the overridden (by mpl) onmessage function.\n",
       "        ws.onmessage(msg['content']['data'])\n",
       "    });\n",
       "    return ws;\n",
       "}\n",
       "\n",
       "mpl.mpl_figure_comm = function(comm, msg) {\n",
       "    // This is the function which gets called when the mpl process\n",
       "    // starts-up an IPython Comm through the \"matplotlib\" channel.\n",
       "\n",
       "    var id = msg.content.data.id;\n",
       "    // Get hold of the div created by the display call when the Comm\n",
       "    // socket was opened in Python.\n",
       "    var element = $(\"#\" + id);\n",
       "    var ws_proxy = comm_websocket_adapter(comm)\n",
       "\n",
       "    function ondownload(figure, format) {\n",
       "        window.open(figure.imageObj.src);\n",
       "    }\n",
       "\n",
       "    var fig = new mpl.figure(id, ws_proxy,\n",
       "                           ondownload,\n",
       "                           element.get(0));\n",
       "\n",
       "    // Call onopen now - mpl needs it, as it is assuming we've passed it a real\n",
       "    // web socket which is closed, not our websocket->open comm proxy.\n",
       "    ws_proxy.onopen();\n",
       "\n",
       "    fig.parent_element = element.get(0);\n",
       "    fig.cell_info = mpl.find_output_cell(\"<div id='\" + id + \"'></div>\");\n",
       "    if (!fig.cell_info) {\n",
       "        console.error(\"Failed to find cell for figure\", id, fig);\n",
       "        return;\n",
       "    }\n",
       "\n",
       "    var output_index = fig.cell_info[2]\n",
       "    var cell = fig.cell_info[0];\n",
       "\n",
       "};\n",
       "\n",
       "mpl.figure.prototype.handle_close = function(fig, msg) {\n",
       "    var width = fig.canvas.width/mpl.ratio\n",
       "    fig.root.unbind('remove')\n",
       "\n",
       "    // Update the output cell to use the data from the current canvas.\n",
       "    fig.push_to_output();\n",
       "    var dataURL = fig.canvas.toDataURL();\n",
       "    // Re-enable the keyboard manager in IPython - without this line, in FF,\n",
       "    // the notebook keyboard shortcuts fail.\n",
       "    IPython.keyboard_manager.enable()\n",
       "    $(fig.parent_element).html('<img src=\"' + dataURL + '\" width=\"' + width + '\">');\n",
       "    fig.close_ws(fig, msg);\n",
       "}\n",
       "\n",
       "mpl.figure.prototype.close_ws = function(fig, msg){\n",
       "    fig.send_message('closing', msg);\n",
       "    // fig.ws.close()\n",
       "}\n",
       "\n",
       "mpl.figure.prototype.push_to_output = function(remove_interactive) {\n",
       "    // Turn the data on the canvas into data in the output cell.\n",
       "    var width = this.canvas.width/mpl.ratio\n",
       "    var dataURL = this.canvas.toDataURL();\n",
       "    this.cell_info[1]['text/html'] = '<img src=\"' + dataURL + '\" width=\"' + width + '\">';\n",
       "}\n",
       "\n",
       "mpl.figure.prototype.updated_canvas_event = function() {\n",
       "    // Tell IPython that the notebook contents must change.\n",
       "    IPython.notebook.set_dirty(true);\n",
       "    this.send_message(\"ack\", {});\n",
       "    var fig = this;\n",
       "    // Wait a second, then push the new image to the DOM so\n",
       "    // that it is saved nicely (might be nice to debounce this).\n",
       "    setTimeout(function () { fig.push_to_output() }, 1000);\n",
       "}\n",
       "\n",
       "mpl.figure.prototype._init_toolbar = function() {\n",
       "    var fig = this;\n",
       "\n",
       "    var nav_element = $('<div/>')\n",
       "    nav_element.attr('style', 'width: 100%');\n",
       "    this.root.append(nav_element);\n",
       "\n",
       "    // Define a callback function for later on.\n",
       "    function toolbar_event(event) {\n",
       "        return fig.toolbar_button_onclick(event['data']);\n",
       "    }\n",
       "    function toolbar_mouse_event(event) {\n",
       "        return fig.toolbar_button_onmouseover(event['data']);\n",
       "    }\n",
       "\n",
       "    for(var toolbar_ind in mpl.toolbar_items){\n",
       "        var name = mpl.toolbar_items[toolbar_ind][0];\n",
       "        var tooltip = mpl.toolbar_items[toolbar_ind][1];\n",
       "        var image = mpl.toolbar_items[toolbar_ind][2];\n",
       "        var method_name = mpl.toolbar_items[toolbar_ind][3];\n",
       "\n",
       "        if (!name) { continue; };\n",
       "\n",
       "        var button = $('<button class=\"btn btn-default\" href=\"#\" title=\"' + name + '\"><i class=\"fa ' + image + ' fa-lg\"></i></button>');\n",
       "        button.click(method_name, toolbar_event);\n",
       "        button.mouseover(tooltip, toolbar_mouse_event);\n",
       "        nav_element.append(button);\n",
       "    }\n",
       "\n",
       "    // Add the status bar.\n",
       "    var status_bar = $('<span class=\"mpl-message\" style=\"text-align:right; float: right;\"/>');\n",
       "    nav_element.append(status_bar);\n",
       "    this.message = status_bar[0];\n",
       "\n",
       "    // Add the close button to the window.\n",
       "    var buttongrp = $('<div class=\"btn-group inline pull-right\"></div>');\n",
       "    var button = $('<button class=\"btn btn-mini btn-primary\" href=\"#\" title=\"Stop Interaction\"><i class=\"fa fa-power-off icon-remove icon-large\"></i></button>');\n",
       "    button.click(function (evt) { fig.handle_close(fig, {}); } );\n",
       "    button.mouseover('Stop Interaction', toolbar_mouse_event);\n",
       "    buttongrp.append(button);\n",
       "    var titlebar = this.root.find($('.ui-dialog-titlebar'));\n",
       "    titlebar.prepend(buttongrp);\n",
       "}\n",
       "\n",
       "mpl.figure.prototype._root_extra_style = function(el){\n",
       "    var fig = this\n",
       "    el.on(\"remove\", function(){\n",
       "\tfig.close_ws(fig, {});\n",
       "    });\n",
       "}\n",
       "\n",
       "mpl.figure.prototype._canvas_extra_style = function(el){\n",
       "    // this is important to make the div 'focusable\n",
       "    el.attr('tabindex', 0)\n",
       "    // reach out to IPython and tell the keyboard manager to turn it's self\n",
       "    // off when our div gets focus\n",
       "\n",
       "    // location in version 3\n",
       "    if (IPython.notebook.keyboard_manager) {\n",
       "        IPython.notebook.keyboard_manager.register_events(el);\n",
       "    }\n",
       "    else {\n",
       "        // location in version 2\n",
       "        IPython.keyboard_manager.register_events(el);\n",
       "    }\n",
       "\n",
       "}\n",
       "\n",
       "mpl.figure.prototype._key_event_extra = function(event, name) {\n",
       "    var manager = IPython.notebook.keyboard_manager;\n",
       "    if (!manager)\n",
       "        manager = IPython.keyboard_manager;\n",
       "\n",
       "    // Check for shift+enter\n",
       "    if (event.shiftKey && event.which == 13) {\n",
       "        this.canvas_div.blur();\n",
       "        event.shiftKey = false;\n",
       "        // Send a \"J\" for go to next cell\n",
       "        event.which = 74;\n",
       "        event.keyCode = 74;\n",
       "        manager.command_mode();\n",
       "        manager.handle_keydown(event);\n",
       "    }\n",
       "}\n",
       "\n",
       "mpl.figure.prototype.handle_save = function(fig, msg) {\n",
       "    fig.ondownload(fig, null);\n",
       "}\n",
       "\n",
       "\n",
       "mpl.find_output_cell = function(html_output) {\n",
       "    // Return the cell and output element which can be found *uniquely* in the notebook.\n",
       "    // Note - this is a bit hacky, but it is done because the \"notebook_saving.Notebook\"\n",
       "    // IPython event is triggered only after the cells have been serialised, which for\n",
       "    // our purposes (turning an active figure into a static one), is too late.\n",
       "    var cells = IPython.notebook.get_cells();\n",
       "    var ncells = cells.length;\n",
       "    for (var i=0; i<ncells; i++) {\n",
       "        var cell = cells[i];\n",
       "        if (cell.cell_type === 'code'){\n",
       "            for (var j=0; j<cell.output_area.outputs.length; j++) {\n",
       "                var data = cell.output_area.outputs[j];\n",
       "                if (data.data) {\n",
       "                    // IPython >= 3 moved mimebundle to data attribute of output\n",
       "                    data = data.data;\n",
       "                }\n",
       "                if (data['text/html'] == html_output) {\n",
       "                    return [cell, data, j];\n",
       "                }\n",
       "            }\n",
       "        }\n",
       "    }\n",
       "}\n",
       "\n",
       "// Register the function which deals with the matplotlib target/channel.\n",
       "// The kernel may be null if the page has been refreshed.\n",
       "if (IPython.notebook.kernel != null) {\n",
       "    IPython.notebook.kernel.comm_manager.register_target('matplotlib', mpl.mpl_figure_comm);\n",
       "}\n"
      ],
      "text/plain": [
       "<IPython.core.display.Javascript object>"
      ]
     },
     "metadata": {},
     "output_type": "display_data"
    },
    {
     "data": {
      "text/html": [
       "<img src=\"data:image/png;base64,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\" width=\"640\">"
      ],
      "text/plain": [
       "<IPython.core.display.HTML object>"
      ]
     },
     "metadata": {},
     "output_type": "display_data"
    }
   ],
   "source": [
    "# 데이터 형태를 파악하기 위해 그래프를 그리자\n",
    "\n",
    "# Python3에서 추가해야 할 부분\n",
    "%matplotlib notebook\n",
    "\n",
    "import matplotlib.pyplot as plt\n",
    "plt.scatter(x,y)\n",
    "plt.title(\"Web traffic over the last month\")\n",
    "plt.xlabel(\"Time\")\n",
    "plt.ylabel(\"Hits/hour\")\n",
    "plt.xticks([w*7*24 for w in range(10)],\n",
    "           ['week %i'%w for w in range(10)])\n",
    "plt.autoscale(tight=True)\n",
    "plt.grid()\n",
    "plt.show()"
   ]
  },
  {
   "cell_type": "markdown",
   "metadata": {},
   "source": [
    "## 적합한 모델과 학습 알고리즘 선택"
   ]
  },
  {
   "cell_type": "markdown",
   "metadata": {},
   "source": [
    "[질문] 서버는 들어오는 웹 트래피에 얼마 동안 대응할 수 있을까?\n",
    "* 노이즈를 고려한 실제 모델 찾기\n",
    "* 모델을 사용해 설비를 증설해야 할 시점"
   ]
  },
  {
   "cell_type": "markdown",
   "metadata": {},
   "source": [
    "### 모델을 만들기에 앞서"
   ]
  },
  {
   "cell_type": "markdown",
   "metadata": {},
   "source": [
    "용어들\n",
    "* 모델 : 이론적 근사치 - 단순한 모델로 시작\n",
    "* approximation error - 근사치 오차\n",
    "* squared distance - 거리 제곱 오차 측정치"
   ]
  },
  {
   "cell_type": "code",
   "execution_count": 43,
   "metadata": {},
   "outputs": [],
   "source": [
    "# 학습된 모델 함수 f에 대한 오차를 구하는 함수(squared distance 사용)\n",
    "def error(f, x, y) : \n",
    "    return sp.sum((f(x)-y)**2)"
   ]
  },
  {
   "cell_type": "markdown",
   "metadata": {},
   "source": [
    "### 단순한 직선으로 시작하기"
   ]
  },
  {
   "cell_type": "code",
   "execution_count": 44,
   "metadata": {},
   "outputs": [],
   "source": [
    "fp1, residuals, rank, sv, rcond = sp.polyfit(x, y, 1, full=True)"
   ]
  },
  {
   "cell_type": "code",
   "execution_count": null,
   "metadata": {},
   "outputs": [],
   "source": [
    "fp1"
   ]
  },
  {
   "cell_type": "code",
   "execution_count": null,
   "metadata": {},
   "outputs": [],
   "source": [
    "residuals"
   ]
  },
  {
   "cell_type": "code",
   "execution_count": null,
   "metadata": {},
   "outputs": [],
   "source": [
    "f1 = sp.poly1d(fp1)\n",
    "print(error(f1, x, y))"
   ]
  },
  {
   "cell_type": "code",
   "execution_count": null,
   "metadata": {},
   "outputs": [],
   "source": [
    "%matplotlib notebook\n",
    "plt.scatter(x,y)\n",
    "plt.title(\"Web traffic over the last month\")\n",
    "plt.xlabel(\"Time\")\n",
    "plt.ylabel(\"Hits/hour\")\n",
    "plt.xticks([w*7*24 for w in range(10)],\n",
    "           ['week %i'%w for w in range(10)])\n",
    "plt.autoscale(tight=True)\n",
    "\n",
    "fx = sp.linspace(0, x[-1], 1000) \n",
    "plt.plot(fx, f1(fx), linewidth=4)\n",
    "plt.legend([\"d=%i\" % f1.order], loc=\"upper left\")\n",
    "\n",
    "plt.grid()\n",
    "plt.show()"
   ]
  },
  {
   "cell_type": "raw",
   "metadata": {},
   "source": [
    "f(x) = 2.59619213 * x + 989.0248716"
   ]
  },
  {
   "cell_type": "markdown",
   "metadata": {},
   "source": [
    "### 좀 더 복잡한 모델"
   ]
  },
  {
   "cell_type": "code",
   "execution_count": null,
   "metadata": {},
   "outputs": [],
   "source": [
    "# 2차원 다항식 모델\n",
    "f2p = sp.polyfit(x, y, 2)\n",
    "f2p"
   ]
  },
  {
   "cell_type": "code",
   "execution_count": null,
   "metadata": {},
   "outputs": [],
   "source": [
    "f2 = sp.poly1d(f2p)\n",
    "error(f2, x, y)"
   ]
  },
  {
   "cell_type": "code",
   "execution_count": null,
   "metadata": {},
   "outputs": [],
   "source": [
    "%matplotlib notebook\n",
    "plt.scatter(x,y)\n",
    "plt.title(\"Web traffic over the last month\")\n",
    "plt.xlabel(\"Time\")\n",
    "plt.ylabel(\"Hits/hour\")\n",
    "plt.xticks([w*7*24 for w in range(10)],\n",
    "           ['week %i'%w for w in range(10)])\n",
    "plt.autoscale(tight=True)\n",
    "\n",
    "fx = sp.linspace(0, x[-1], 1000)\n",
    "\n",
    "plt.plot(fx, f1(fx), linewidth=4)\n",
    "#plt.legend([\"d=%i\" % f1.order],loc=\"upper left\")\n",
    "\n",
    "plt.plot(fx, f2(fx), linewidth=4)\n",
    "plt.legend([[\"d=%i\" % f1.order],[\"d=%i\" % f2.order]], loc=\"upper left\")\n",
    "\n",
    "plt.grid()\n",
    "plt.show()"
   ]
  },
  {
   "cell_type": "raw",
   "metadata": {},
   "source": [
    "f(x) = 0.0105322215 * x ** 2 - 5.26545650 * x + 1974.76082"
   ]
  },
  {
   "cell_type": "code",
   "execution_count": null,
   "metadata": {},
   "outputs": [],
   "source": [
    "# 실습 - 차수 3으로 도전\n",
    "# 에러는?"
   ]
  },
  {
   "cell_type": "code",
   "execution_count": null,
   "metadata": {},
   "outputs": [],
   "source": [
    "# 실습 - 차수 10으로 도전\n",
    "# 에러는?"
   ]
  },
  {
   "cell_type": "code",
   "execution_count": null,
   "metadata": {},
   "outputs": [],
   "source": [
    "# 실습 - 차수 100으로 도전\n",
    "# 에러는?"
   ]
  },
  {
   "cell_type": "code",
   "execution_count": null,
   "metadata": {},
   "outputs": [],
   "source": [
    "%matplotlib notebook\n",
    "f3p = sp.polyfit(x, y, 3)\n",
    "f3 = sp.poly1d(f3p)\n",
    "\n",
    "f10p = sp.polyfit(x, y, 10)\n",
    "f10 = sp.poly1d(f10p)\n",
    "\n",
    "f100p = sp.polyfit(x, y, 100)\n",
    "f100 = sp.poly1d(f100p)\n",
    "\n",
    "\n",
    "plt.scatter(x,y)\n",
    "plt.title(\"Web traffic over the last month\")\n",
    "plt.xlabel(\"Time\")\n",
    "plt.ylabel(\"Hits/hour\")\n",
    "plt.xticks([w*7*24 for w in range(10)],\n",
    "           ['week %i'%w for w in range(10)])\n",
    "plt.autoscale(tight=True)\n",
    "\n",
    "fx = sp.linspace(0, x[-1], 1000)\n",
    "\n",
    "plt.plot(fx, f1(fx), linewidth=4)\n",
    "plt.plot(fx, f2(fx), linewidth=4)\n",
    "plt.plot(fx, f3(fx), linewidth=4)\n",
    "plt.plot(fx, f10(fx), linewidth=4)\n",
    "plt.plot(fx, f100(fx), linewidth=4)\n",
    "\n",
    "plt.legend([[\"d=%i\" % f1.order],\n",
    "            [\"d=%i\" % f2.order],\n",
    "            [\"d=%i\" % f3.order],\n",
    "            [\"d=%i\" % f10.order],\n",
    "            [\"d=%i\" % f100.order]\n",
    "            ], \n",
    "           loc=\"upper left\")\n",
    "\n",
    "plt.grid()\n",
    "plt.show()"
   ]
  },
  {
   "cell_type": "code",
   "execution_count": null,
   "metadata": {},
   "outputs": [],
   "source": [
    "for f in [f1, f2, f3, f10, f100]:\n",
    "    print(\"Error d=%i: %f\" % (f.order, error(f, x, y)))"
   ]
  },
  {
   "cell_type": "markdown",
   "metadata": {},
   "source": [
    "#### overfitting 과적합"
   ]
  },
  {
   "cell_type": "markdown",
   "metadata": {},
   "source": [
    "overfillting(과적합)\n",
    "\n",
    "* 위의 결과를 보면 10차 이상은 너무 굴곡이 많음. \n",
    "* 이는 모델이 너무 많은 데이터에 fitting 됨\n",
    "* 주요 데이터 뿐만 아니라 노이즈까지 반영하는 것을 overfitting이라고 한다.\n",
    "\n",
    "다음 중에 하나 선택해야 한다.\n",
    "\n",
    "* 적합화된 다항식 모델 중 하나를 선택해야 할지\n",
    "* 스플라인spline 같은 좀 더 복잡한 모델로 바꿔야 할지\n",
    "* 데이터를 다르게 분석하고 다시 시작해야 할지\n"
   ]
  },
  {
   "cell_type": "markdown",
   "metadata": {},
   "source": [
    "#### 일보후퇴, 일보전진 : 데이터 다시 보기"
   ]
  },
  {
   "cell_type": "markdown",
   "metadata": {},
   "source": [
    "데이터를 다시 보자"
   ]
  },
  {
   "cell_type": "code",
   "execution_count": null,
   "metadata": {},
   "outputs": [],
   "source": [
    "# 데이터 형태를 파악하기 위해 그래프를 그리자\n",
    "%matplotlib notebook\n",
    "import matplotlib.pyplot as plt\n",
    "plt.scatter(x,y)\n",
    "plt.title(\"Web traffic over the last month\")\n",
    "plt.xlabel(\"Time\")\n",
    "plt.ylabel(\"Hits/hour\")\n",
    "plt.xticks([w*7*24 for w in range(10)],\n",
    "           ['week %i'%w for w in range(10)])\n",
    "plt.autoscale(tight=True)\n",
    "plt.grid()\n",
    "plt.show()"
   ]
  },
  {
   "cell_type": "markdown",
   "metadata": {},
   "source": [
    "* 3주차와 4주차 사이에 변곡점이 있다.\n",
    "* 3.5주차를 기준으로 데이터를 둘로 나누고 두 선을 따로 훈련하자\n",
    "* 3주차까지 첫 번째 직선을 훈련하고, 나머지를 두 번째 직선으로 훈련하자"
   ]
  },
  {
   "cell_type": "code",
   "execution_count": null,
   "metadata": {},
   "outputs": [],
   "source": [
    "inflection = 3.5 * 7 * 24"
   ]
  },
  {
   "cell_type": "code",
   "execution_count": null,
   "metadata": {},
   "outputs": [],
   "source": [
    "%matplotlib notebook\n",
    "\n",
    "# 첫번째 직선\n",
    "xa = x[:inflection]\n",
    "ya = y[:inflection]\n",
    "\n",
    "fa = sp.poly1d(sp.polyfit(xa, ya, 1))\n",
    "\n",
    "plt.scatter(x,y)\n",
    "plt.title(\"Web traffic over the last month\")\n",
    "plt.xlabel(\"Time\")\n",
    "plt.ylabel(\"Hits/hour\")\n",
    "plt.xticks([w*7*24 for w in range(10)],\n",
    "           ['week %i'%w for w in range(10)])\n",
    "\n",
    "fax = sp.linspace(0, xa[-1], 1000)\n",
    "\n",
    "plt.plot(fax, fa(fax), linewidth=4)\n",
    "\n",
    "plt.legend([[\"d=%i\" % fa.order],\n",
    "            ], \n",
    "           loc=\"upper left\")\n",
    "\n",
    "plt.autoscale(tight=True)\n",
    "plt.grid()\n",
    "plt.show()"
   ]
  },
  {
   "cell_type": "code",
   "execution_count": null,
   "metadata": {},
   "outputs": [],
   "source": [
    "# 두번째 직선\n",
    "xb = x[inflection:]\n",
    "yb = y[inflection:]\n",
    "\n",
    "fb = sp.poly1d(sp.polyfit(xb, yb, 1))\n",
    "\n",
    "plt.scatter(x,y)\n",
    "plt.title(\"Web traffic over the last month\")\n",
    "plt.xlabel(\"Time\")\n",
    "plt.ylabel(\"Hits/hour\")\n",
    "plt.xticks([w*7*24 for w in range(10)],\n",
    "           ['week %i'%w for w in range(10)])\n",
    "\n",
    "fax = sp.linspace(0, xa[-1], 1000)\n",
    "fbx = sp.linspace(xb[0], xb[-1], 1000)\n",
    "\n",
    "plt.plot(fax, fa(fax), linewidth=4)\n",
    "plt.plot(fbx, fb(fbx), linewidth=4)\n",
    "\n",
    "plt.legend([[\"d=%i\" % fa.order],\n",
    "            [\"d=%i\" % fb.order]\n",
    "            ], \n",
    "           loc=\"upper left\")\n",
    "\n",
    "plt.autoscale(tight=True)\n",
    "plt.grid()\n",
    "plt.show()"
   ]
  },
  {
   "cell_type": "code",
   "execution_count": null,
   "metadata": {},
   "outputs": [],
   "source": [
    "fa_error = error(fa, xa, ya)\n",
    "fb_error = error(fb, xb, yb)\n",
    "print(\"Error inflection=%f\" %(fa_error + fb_error))"
   ]
  },
  {
   "cell_type": "markdown",
   "metadata": {},
   "source": [
    "#### 미래를 예측해보자!"
   ]
  },
  {
   "cell_type": "markdown",
   "metadata": {},
   "source": [
    "어느 모델을 써야 하는가?\n",
    "\n",
    "* 두 직선의 결합은 이전 모델보다 overfitting을 피한 것 처럼 보인다.\n",
    "* 하지만 여전히 고차모델보다는 오차가 높다.\n",
    "* 왜 직선 모델을 신용하는가?"
   ]
  },
  {
   "cell_type": "code",
   "execution_count": null,
   "metadata": {},
   "outputs": [],
   "source": [
    "colors = ['g', 'k', 'b', 'm', 'r']\n",
    "linestyles = ['-', '-.', '--', ':', '-']\n",
    "\n",
    "def plot_models(x, y, models, mx=None, ymax=None, xmin=None):\n",
    "    plt.clf()\n",
    "    plt.scatter(x, y, s=10)\n",
    "    plt.title(\"Web traffic over the last month\")\n",
    "    plt.xlabel(\"Time\")\n",
    "    plt.ylabel(\"Hits/hour\")\n",
    "    plt.xticks(\n",
    "        [w * 7 * 24 for w in range(10)], ['week %i' % w for w in range(10)])\n",
    "\n",
    "    if models:\n",
    "        if mx is None:\n",
    "            mx = sp.linspace(0, x[-1], 1000)\n",
    "        for model, style, color in zip(models, linestyles, colors):\n",
    "            # print \"Model:\",model\n",
    "            # print \"Coeffs:\",model.coeffs\n",
    "            plt.plot(mx, model(mx), linestyle=style, linewidth=2, c=color)\n",
    "\n",
    "        plt.legend([\"d=%i\" % m.order for m in models], loc=\"upper left\")\n",
    "\n",
    "    plt.autoscale(tight=True)\n",
    "    plt.ylim(ymin=0)\n",
    "    if ymax:\n",
    "        plt.ylim(ymax=ymax)\n",
    "    if xmin:\n",
    "        plt.xlim(xmin=xmin)\n",
    "    plt.grid(True, linestyle='-', color='0.75')\n",
    "    plt.show()"
   ]
  },
  {
   "cell_type": "code",
   "execution_count": null,
   "metadata": {},
   "outputs": [],
   "source": [
    "# 이전 모델들의 예측력 그래프 그리기\n",
    "plot_models(\n",
    "    x, y, [f1, f2, f3, f10, f100],\n",
    "    mx=sp.linspace(0 * 7 * 24, 6 * 7 * 24, 100),\n",
    "    ymax=10000, xmin=0 * 7 * 24)"
   ]
  },
  {
   "cell_type": "markdown",
   "metadata": {},
   "source": [
    "예측 결과 \n",
    "\n",
    "* 고차 다항식 모델 - 과적합(overfitting). 회사의 미래가 밝지 않다. 데이터를 너무 잘 반영해서 미래의 예측도 쓸모없어졌다\n",
    "* 저차 다항식 모델 - 과소적합(under-fitting). 역시 좋지 않다. 데이터를 제대로 반영하지 못하는듯."
   ]
  },
  {
   "cell_type": "code",
   "execution_count": null,
   "metadata": {},
   "outputs": [],
   "source": [
    "# 마지막 주의 데이터만으로 훈련하기\n",
    "fb1 = fb\n",
    "fb2 = sp.poly1d(sp.polyfit(xb, yb, 2))\n",
    "fb3 = sp.poly1d(sp.polyfit(xb, yb, 3))\n",
    "fb10 = sp.poly1d(sp.polyfit(xb, yb, 10))\n",
    "fb100 = sp.poly1d(sp.polyfit(xb, yb, 100))\n",
    "\n",
    "print(\"Errors for only the time after inflection point\")\n",
    "for f in [fb1, fb2, fb3, fb10, fb100]:\n",
    "    print(\"Error d=%i: %f\" % (f.order, error(f, xb, yb)))\n",
    "\n",
    "plot_models(\n",
    "    x, y, [fb1, fb2, fb3, fb10, fb100], \n",
    "    mx=sp.linspace(0 * 7 * 24, 6 * 7 * 24, 100),\n",
    "    ymax=10000, xmin=0 * 7 * 24)"
   ]
  },
  {
   "cell_type": "markdown",
   "metadata": {},
   "source": [
    "결과 \n",
    "\n",
    "* 직선 모델의 경우, 마지막 주의 데이터만 학습하면 더 예측력이 높아진다(차수 낮은 모델들)\n",
    "* 고차 모델의 경우, 예측력이 더 엉망이 된다.\n",
    "* 그런데도 오차만으로 모델 판단 기준을 정하면 고차모델을 택해야 하는 것처럼 나온다.\n",
    "\n",
    "어떻게 해야하나??!!!\n"
   ]
  },
  {
   "cell_type": "code",
   "execution_count": null,
   "metadata": {},
   "outputs": [],
   "source": [
    "print(\"Errors for only the time after inflection point\")\n",
    "for f in [fb1, fb2, fb3, fb10, fb100]:\n",
    "    print(\"Error d=%i: %f\" % (f.order, error(f, xb, yb)))"
   ]
  },
  {
   "cell_type": "markdown",
   "metadata": {},
   "source": [
    "### 훈련과 테스트"
   ]
  },
  {
   "cell_type": "markdown",
   "metadata": {},
   "source": [
    "가령, 모델의 정확도를 낮추는 미래의 데이터를 갖고 있더라도, 단지 결과인 근사치 오차를 바탕으로 모델을 선택할 수 있어야 한다.\n",
    "\n",
    "홀드아웃 데이터(학습 데이터와 테스트 데이터를 분리한다) 방식!\n",
    "\n",
    "* 마지막 주의 데이터에서\n",
    "* 테스트용 데이터로 쓰기 위해 일부 데이터를 뺀다(test data set)\n",
    "* 그리고 그 나머지 데이터로 학습해서 모델을 만든다(training data set)\n",
    "* 학습 결과로 나온 모델의 성능을 테스트 데이터로 측정한다. (오차 구함)\n"
   ]
  },
  {
   "cell_type": "code",
   "execution_count": null,
   "metadata": {},
   "outputs": [],
   "source": [
    "frac = 0.3\n",
    "split_idx = int(frac * len(xb))\n",
    "split_idx"
   ]
  },
  {
   "cell_type": "code",
   "execution_count": null,
   "metadata": {},
   "outputs": [],
   "source": [
    "shuffled = sp.random.permutation(list(range(len(xb))))\n",
    "shuffled"
   ]
  },
  {
   "cell_type": "code",
   "execution_count": null,
   "metadata": {},
   "outputs": [],
   "source": [
    "test = sorted(shuffled[:split_idx])\n",
    "test"
   ]
  },
  {
   "cell_type": "code",
   "execution_count": null,
   "metadata": {},
   "outputs": [],
   "source": [
    "train = sorted(shuffled[split_idx:])\n",
    "train"
   ]
  },
  {
   "cell_type": "code",
   "execution_count": null,
   "metadata": {},
   "outputs": [],
   "source": [
    "fbt1 = sp.poly1d(sp.polyfit(xb[train], yb[train], 1))\n",
    "fbt2 = sp.poly1d(sp.polyfit(xb[train], yb[train], 2))\n",
    "fbt3 = sp.poly1d(sp.polyfit(xb[train], yb[train], 3))\n",
    "fbt10 = sp.poly1d(sp.polyfit(xb[train], yb[train], 10))\n",
    "fbt100 = sp.poly1d(sp.polyfit(xb[train], yb[train], 100))\n",
    "\n",
    "plot_models(\n",
    "    x, y, [fbt1, fbt2, fbt3, fbt10, fbt100], \n",
    "    mx=sp.linspace(0 * 7 * 24, 6 * 7 * 24, 100),\n",
    "    ymax=10000, xmin=0 * 7 * 24)"
   ]
  },
  {
   "cell_type": "markdown",
   "metadata": {},
   "source": [
    "그래프상으로 d=2와 d=3이 예측력이 제일 좋아보인다.\n",
    "\n",
    "테스트 데이터에 모델을 적용해서 오차를 구해보자."
   ]
  },
  {
   "cell_type": "code",
   "execution_count": null,
   "metadata": {},
   "outputs": [],
   "source": [
    "print(\"Test errors for only the time after inflection point\")\n",
    "for f in [fbt1, fbt2, fbt3, fbt10, fbt100]:\n",
    "    print(\"Error d=%i: %f\" % (f.order, error(f, xb[test], yb[test])))"
   ]
  },
  {
   "cell_type": "markdown",
   "metadata": {},
   "source": [
    "오차 계산 결과 d=2 모델이 가장 좋은 것으로 !!"
   ]
  },
  {
   "cell_type": "markdown",
   "metadata": {},
   "source": [
    "### 최초의 질문에 대답하기"
   ]
  },
  {
   "cell_type": "markdown",
   "metadata": {},
   "source": [
    "시간당 100,000 요청이 언제 들어올까? 장비를 언제를 기준으로 구매해야 할까?\n",
    "\n",
    "* 모델인 2차 다항식의 y값이 100,000이 되는 x를 찾으면 된다. = 다항식의 근 찾기\n",
    "* 다항식에서 100,000을 빼고 근을 구한다."
   ]
  },
  {
   "cell_type": "code",
   "execution_count": null,
   "metadata": {},
   "outputs": [],
   "source": [
    "fb2 = sp.poly1d(sp.polyfit(xb[train], yb[train], 2))\n",
    "print(fb2)"
   ]
  },
  {
   "cell_type": "code",
   "execution_count": null,
   "metadata": {},
   "outputs": [],
   "source": [
    "print(fb2-100000)"
   ]
  },
  {
   "cell_type": "code",
   "execution_count": null,
   "metadata": {},
   "outputs": [],
   "source": [
    "from scipy.optimize import fsolve\n",
    "reached_max = fsolve(fb2-100000, 800)/(7*24)\n",
    "reached_max"
   ]
  },
  {
   "cell_type": "code",
   "execution_count": null,
   "metadata": {},
   "outputs": [],
   "source": [
    "print(\"100,000 hits/hour expected at week %f\" % reached_max[0])"
   ]
  },
  {
   "cell_type": "markdown",
   "metadata": {},
   "source": [
    "예측결과 : 10주 뒤엔 최대 수용치(시간당 100,000번 접속)에 도달할 것이다."
   ]
  },
  {
   "cell_type": "markdown",
   "metadata": {},
   "source": [
    "# 정리"
   ]
  },
  {
   "cell_type": "markdown",
   "metadata": {},
   "source": [
    "전형적인 기계 학습 작업은\n",
    "\n",
    "* 데이터 정제와 이해에 대부분의 시간을 보낸다.\n",
    "* 올바른 실험 준비가 필요하다.\n",
    "* 훈련과 테스트가 섞이지 않아야 한다.\n"
   ]
  },
  {
   "cell_type": "markdown",
   "metadata": {},
   "source": [
    "# 감사합니다."
   ]
  },
  {
   "cell_type": "code",
   "execution_count": null,
   "metadata": {},
   "outputs": [],
   "source": []
  }
 ],
 "metadata": {
  "kernelspec": {
   "display_name": "Python 3",
   "language": "python",
   "name": "python3"
  },
  "language_info": {
   "codemirror_mode": {
    "name": "ipython",
    "version": 3
   },
   "file_extension": ".py",
   "mimetype": "text/x-python",
   "name": "python",
   "nbconvert_exporter": "python",
   "pygments_lexer": "ipython3",
   "version": "3.7.1"
  }
 },
 "nbformat": 4,
 "nbformat_minor": 1
}
